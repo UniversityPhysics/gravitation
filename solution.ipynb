scene.width = 1000
scene.height = 600

G = 6.7e-11
mEarth = 6e24
delta_t = 1*60*60 # 1 hour (in seconds)

Earth = sphere(pos=vector(0,0,0), radius=6.4e6, color=color.cyan)
craft = sphere(pos=vector(-10*Earth.radius, 0,0), radius=1e6, color=color.yellow, make_trail=True)
craft.velocity =  vector(0,2e3,0)
craft.mass = 15e3

#Define arrows with scale factors to illustrate momentum and force
r=craft.pos-Earth.pos
scaleVelocity = 0.2*mag(r)/mag(craft.velocity)
vArrow = arrow(pos = craft.pos, color=color.white) 

scaleForce =  2.0*(G*mEarth*craft.mass/mag(r)**2)
fArrow = arrow(pos = craft.pos, color=color.red)

t = 0
scene.autoscale = False ##turn off automatic camera zoom
while t < 365*24*60*60:
    sleep(delta_t/(12*3600)) #Every 12 hours will be displayed as 1 second
    
    #update position
    craft.pos = craft.pos + craft.velocity*delta_t
    
    #update vector arrows
    vArrow.pos = craft.pos
    vArrow.axis = craft.velocity*scaleVelocity
    fArrow.pos = craft.pos
    fArrow.axis = Fnet*scaleForce
    
    t = t + delta_t
